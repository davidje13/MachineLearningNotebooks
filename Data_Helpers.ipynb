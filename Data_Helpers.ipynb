{
 "cells": [
  {
   "cell_type": "code",
   "execution_count": 1,
   "metadata": {},
   "outputs": [],
   "source": [
    "import pandas as pd"
   ]
  },
  {
   "cell_type": "code",
   "execution_count": 2,
   "metadata": {},
   "outputs": [],
   "source": [
    "def convert_date(df, column):\n",
    "    df[column] = df[column].apply(lambda d: dateutil.parser.parse(d))\n",
    "\n",
    "def convert_to_int(df, column):\n",
    "    df[column] = df[column].astype(int)"
   ]
  },
  {
   "cell_type": "code",
   "execution_count": 3,
   "metadata": {},
   "outputs": [],
   "source": [
    "def find_columns(df, prefix, sep='_'):\n",
    "    cols = [x for x in df.columns.values if x.startswith(prefix+sep)]\n",
    "    if len(cols) == 0:\n",
    "        raise Exception('No columns found with prefix ' + prefix)\n",
    "    return cols"
   ]
  },
  {
   "cell_type": "code",
   "execution_count": 4,
   "metadata": {},
   "outputs": [],
   "source": [
    "def extract_unknown(df, column, sep='_', replace = -1):\n",
    "    df.insert(\n",
    "        df.columns.get_loc(column),\n",
    "        column + sep + 'known',\n",
    "        df[column].apply(lambda d: 0 if pd.isna(d) else 1)\n",
    "    )\n",
    "    df[column] = df[column].fillna(replace)"
   ]
  },
  {
   "cell_type": "code",
   "execution_count": 5,
   "metadata": {},
   "outputs": [],
   "source": [
    "def split_categories(df, column, values, sep='_'):\n",
    "    # get_dummies is not reliable; it will not include columns if no row contains the value.\n",
    "    # hand-craft it instead:\n",
    "    pos = df.columns.get_loc(column)\n",
    "    col = df[column]\n",
    "    df.drop(columns=[column], inplace=True)\n",
    "    for v in values:\n",
    "        df.insert(pos, column + sep + v, col.apply(lambda d: 1 if (str(d) == str(v)) else 0))\n",
    "        pos += 1"
   ]
  },
  {
   "cell_type": "code",
   "execution_count": 6,
   "metadata": {},
   "outputs": [],
   "source": [
    "def _merge_categories(row, prefix, checks):\n",
    "    for c in checks:\n",
    "        if row[c]:\n",
    "            return c[len(prefix) + 1:]\n",
    "    return 'N/A'\n",
    "\n",
    "def merge_categories(df, prefix, sep='_'):\n",
    "    checks = find_columns(df, prefix, sep=sep)\n",
    "    outDf = df.drop(columns = checks)\n",
    "    outDf[prefix] = df.apply(lambda row: _merge_categories(row, prefix, checks), axis=1)\n",
    "    return outDf"
   ]
  },
  {
   "cell_type": "code",
   "execution_count": 7,
   "metadata": {},
   "outputs": [],
   "source": [
    "def _count_hots(row, prefix, checks):\n",
    "    n = 0\n",
    "    for c in checks:\n",
    "        if row[c]:\n",
    "            n += 1\n",
    "    return n\n",
    "\n",
    "def count_hots(df, prefix, sep='_'):\n",
    "    checks = find_columns(df, prefix, sep=sep)\n",
    "    return df.apply(lambda row: _count_hots(row, prefix, checks), axis=1)"
   ]
  },
  {
   "cell_type": "code",
   "execution_count": 8,
   "metadata": {},
   "outputs": [],
   "source": [
    "def drop_columns_prefixed(df, prefix, sep='_'):\n",
    "    return df.drop(columns = find_columns(df, prefix, sep=sep))"
   ]
  },
  {
   "cell_type": "code",
   "execution_count": 9,
   "metadata": {},
   "outputs": [],
   "source": [
    "def divide_data(df, fractions):\n",
    "    remaining = df\n",
    "    result = []\n",
    "    fracRemaining = 1\n",
    "    for fraction in fractions:\n",
    "        batch = remaining.sample(frac=fraction / fracRemaining)\n",
    "        result.append(batch)\n",
    "        remaining = remaining.drop(batch.index)\n",
    "        fracRemaining -= fraction\n",
    "    return result"
   ]
  },
  {
   "cell_type": "code",
   "execution_count": 10,
   "metadata": {},
   "outputs": [],
   "source": [
    "def display_wide(df):\n",
    "    with pd.option_context('display.max_columns', None):\n",
    "        display(df)"
   ]
  }
 ],
 "metadata": {
  "kernelspec": {
   "display_name": "Python 3",
   "language": "python",
   "name": "python3"
  },
  "language_info": {
   "codemirror_mode": {
    "name": "ipython",
    "version": 3
   },
   "file_extension": ".py",
   "mimetype": "text/x-python",
   "name": "python",
   "nbconvert_exporter": "python",
   "pygments_lexer": "ipython3",
   "version": "3.5.2"
  }
 },
 "nbformat": 4,
 "nbformat_minor": 2
}
