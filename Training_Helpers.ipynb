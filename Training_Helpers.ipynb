{
 "cells": [
  {
   "cell_type": "code",
   "execution_count": 1,
   "metadata": {},
   "outputs": [],
   "source": [
    "class InputFn:\n",
    "    name = ''\n",
    "    fn = None\n",
    "    def __init__(self, name, fn):\n",
    "        self.name = name\n",
    "        self.fn = fn\n",
    "\n",
    "class TrainingResult:\n",
    "    model = None\n",
    "    train_accuracy = None\n",
    "    test_accuracy = None\n",
    "    def __init__(self, model, train_accuracy, test_accuracy):\n",
    "        self.model = model\n",
    "        self.train_accuracy = train_accuracy\n",
    "        self.test_accuracy = test_accuracy"
   ]
  },
  {
   "cell_type": "code",
   "execution_count": 2,
   "metadata": {},
   "outputs": [],
   "source": [
    "def train_models(\n",
    "    train_model_fn,\n",
    "    make_model_fn,\n",
    "    train_data,\n",
    "    test_data,\n",
    "    input_fns,\n",
    "    output_fn,\n",
    "    **trainArgs\n",
    "):\n",
    "    results = {}\n",
    "    for infn in input_fns:\n",
    "        print('Fitting ' + infn.name + '...')\n",
    "        results[infn.name] = train_model_fn(\n",
    "            make_model_fn,\n",
    "            train_data,\n",
    "            test_data,\n",
    "            infn.fn,\n",
    "            output_fn,\n",
    "            **trainArgs\n",
    "        )\n",
    "\n",
    "    print('Training complete')\n",
    "    return results"
   ]
  }
 ],
 "metadata": {
  "kernelspec": {
   "display_name": "Python 3",
   "language": "python",
   "name": "python3"
  },
  "language_info": {
   "codemirror_mode": {
    "name": "ipython",
    "version": 3
   },
   "file_extension": ".py",
   "mimetype": "text/x-python",
   "name": "python",
   "nbconvert_exporter": "python",
   "pygments_lexer": "ipython3",
   "version": "3.5.2"
  }
 },
 "nbformat": 4,
 "nbformat_minor": 2
}
