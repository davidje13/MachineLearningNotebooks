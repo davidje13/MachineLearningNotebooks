{
 "cells": [
  {
   "cell_type": "code",
   "execution_count": 1,
   "metadata": {},
   "outputs": [
    {
     "name": "stdout",
     "output_type": "stream",
     "text": [
      "Requirement already satisfied: graphviz in /usr/local/lib/python3.5/dist-packages (0.8.4)\n",
      "\u001b[33mYou are using pip version 10.0.1, however version 18.0 is available.\n",
      "You should consider upgrading via the 'pip install --upgrade pip' command.\u001b[0m\n"
     ]
    }
   ],
   "source": [
    "# Install graphviz binaries\n",
    "!which dot >/dev/null || apt-cache show graphviz >/dev/null || apt-get update\n",
    "!which dot >/dev/null || apt-get -y install graphviz\n",
    "\n",
    "# Install graphviz python wrapper\n",
    "!pip install graphviz"
   ]
  },
  {
   "cell_type": "code",
   "execution_count": 2,
   "metadata": {},
   "outputs": [],
   "source": [
    "%run Training_Helpers.ipynb\n",
    "\n",
    "import sklearn.tree\n",
    "import pandas as pd\n",
    "import copy\n",
    "import graphviz\n",
    "import IPython.display"
   ]
  },
  {
   "cell_type": "code",
   "execution_count": 3,
   "metadata": {},
   "outputs": [],
   "source": [
    "# See https://github.com/scikit-learn/scikit-learn/issues/10810\n",
    "\n",
    "def prune_decision_tree_inplace(tree):\n",
    "    dat = tree.tree_\n",
    "    nodes = range(0, dat.node_count)\n",
    "    ls = dat.children_left\n",
    "    rs = dat.children_right\n",
    "    classes = [[list(e).index(max(e)) for e in v] for v in dat.value]\n",
    "\n",
    "    leaves = [(ls[i] == rs[i]) for i in nodes]\n",
    "\n",
    "    LEAF = -1\n",
    "    for i in reversed(nodes):\n",
    "        if leaves[i]:\n",
    "            continue\n",
    "        if leaves[ls[i]] and leaves[rs[i]] and classes[ls[i]] == classes[rs[i]]:\n",
    "            ls[i] = rs[i] = LEAF\n",
    "            leaves[i] = True\n",
    "\n",
    "def prune_decision_tree(tree):\n",
    "    tree = copy.deepcopy(tree)\n",
    "    prune_decision_tree_inplace(tree)\n",
    "    return tree"
   ]
  },
  {
   "cell_type": "code",
   "execution_count": 4,
   "metadata": {},
   "outputs": [],
   "source": [
    "def show_tree(model, fullSize = False):\n",
    "    dot = sklearn.tree.export_graphviz(\n",
    "        model,\n",
    "        out_file           = None,\n",
    "        feature_names      = model.feature_names,\n",
    "        class_names        = model.class_names,\n",
    "        filled             = True,\n",
    "        rounded            = True,\n",
    "        special_characters = True,\n",
    "    )\n",
    "    s = graphviz.Source(dot)\n",
    "    if fullSize:\n",
    "        display(s)\n",
    "    else:\n",
    "        s.format = 'png'\n",
    "        display(IPython.display.Image(data = s.pipe()))"
   ]
  },
  {
   "cell_type": "code",
   "execution_count": 5,
   "metadata": {},
   "outputs": [],
   "source": [
    "def train_decision_tree(\n",
    "    make_model_fn,\n",
    "    train_data,\n",
    "    test_data,\n",
    "    input_fn,\n",
    "    output_fn,\n",
    "\n",
    "    prune = False,\n",
    "    class_names = [],\n",
    "):\n",
    "    train_in = input_fn(train_data)\n",
    "    train_out = output_fn(train_data)\n",
    "    test_in = input_fn(test_data)\n",
    "    test_out = output_fn(test_data)\n",
    "\n",
    "    model = make_model_fn(train_in, train_out)\n",
    "    model.fit(train_in, train_out)\n",
    "    if prune:\n",
    "        prune_decision_tree_inplace(model)\n",
    "\n",
    "    train_accuracy = model.score(train_in, train_out)\n",
    "    test_accuracy = model.score(test_in, test_out)\n",
    "\n",
    "    print('  train: accuracy = {:.4}    test: accuracy = {:.4}'.format(\n",
    "        train_accuracy,\n",
    "        test_accuracy,\n",
    "    ))\n",
    "\n",
    "    model.feature_names = list(train_in.columns.values)\n",
    "    model.class_names = class_names\n",
    "    return TrainingResult(\n",
    "        model,\n",
    "        train_accuracy,\n",
    "        test_accuracy,\n",
    "    )"
   ]
  },
  {
   "cell_type": "code",
   "execution_count": 6,
   "metadata": {},
   "outputs": [],
   "source": [
    "def train_decision_trees(\n",
    "    make_model_fn,\n",
    "    train_data,\n",
    "    test_data,\n",
    "    input_fns,\n",
    "    output_fn,\n",
    "    **trainArgs\n",
    "):\n",
    "    return train_models(\n",
    "        train_decision_tree,\n",
    "        make_model_fn,\n",
    "        train_data,\n",
    "        test_data,\n",
    "        input_fns,\n",
    "        output_fn,\n",
    "        **trainArgs\n",
    "    )"
   ]
  }
 ],
 "metadata": {
  "kernelspec": {
   "display_name": "Python 3",
   "language": "python",
   "name": "python3"
  },
  "language_info": {
   "codemirror_mode": {
    "name": "ipython",
    "version": 3
   },
   "file_extension": ".py",
   "mimetype": "text/x-python",
   "name": "python",
   "nbconvert_exporter": "python",
   "pygments_lexer": "ipython3",
   "version": "3.5.2"
  }
 },
 "nbformat": 4,
 "nbformat_minor": 2
}
